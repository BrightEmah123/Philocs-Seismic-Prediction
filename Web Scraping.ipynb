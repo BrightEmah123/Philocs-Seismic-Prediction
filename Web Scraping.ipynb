{
 "cells": [
  {
   "cell_type": "code",
   "execution_count": 1,
   "metadata": {},
   "outputs": [],
   "source": [
    "from selenium import webdriver\n",
    "import re"
   ]
  },
  {
   "cell_type": "markdown",
   "metadata": {},
   "source": [
    "### December"
   ]
  },
  {
   "cell_type": "code",
   "execution_count": 2,
   "metadata": {},
   "outputs": [],
   "source": [
    "url = \"https://earthquake.phivolcs.dost.gov.ph/EQLatest-Monthly/2018/2018_December.html\""
   ]
  },
  {
   "cell_type": "code",
   "execution_count": 25,
   "metadata": {},
   "outputs": [],
   "source": [
    "browser = webdriver.Chrome(\"C:/Users/mctwi/chromedriver.exe\")"
   ]
  },
  {
   "cell_type": "code",
   "execution_count": 4,
   "metadata": {},
   "outputs": [],
   "source": [
    "browser.get(url)"
   ]
  },
  {
   "cell_type": "code",
   "execution_count": 100,
   "metadata": {},
   "outputs": [],
   "source": [
    "indexcol = browser.find_elements_by_css_selector(\".auto-style33\")\n",
    "header = []\n",
    "a = -1\n",
    "while a < 5:\n",
    "    a = a + 1\n",
    "    hdr = indexcol[a].text\n",
    "    header.append(hdr)"
   ]
  },
  {
   "cell_type": "code",
   "execution_count": 70,
   "metadata": {},
   "outputs": [],
   "source": [
    "dte = []\n",
    "datt = 2\n",
    "while datt <= 562:\n",
    "    datt += 1\n",
    "    daterow = browser.find_elements_by_xpath('/html/body/table[2]/tbody/tr[{datt}]/td[1]'.format(datt=datt))\n",
    "    dte.extend(daterow)\n",
    "# /html/body/table[2]/tbody/tr[3]/td[1]"
   ]
  },
  {
   "cell_type": "code",
   "execution_count": 71,
   "metadata": {},
   "outputs": [],
   "source": [
    "date = []\n",
    "dt = -1\n",
    "while dt < 560:\n",
    "    dt += 1\n",
    "    da = dte[dt].text\n",
    "    date.append(da)"
   ]
  },
  {
   "cell_type": "code",
   "execution_count": 73,
   "metadata": {},
   "outputs": [],
   "source": [
    "# /html/body/table[2]/tbody/tr[3]/td[2]\n",
    "la = []\n",
    "lat = 2\n",
    "while lat <= 562:\n",
    "    lat += 1\n",
    "    lattrow = browser.find_elements_by_xpath('/html/body/table[2]/tbody/tr[{lat}]/td[2]'.format(lat=lat))\n",
    "    la.extend(lattrow)"
   ]
  },
  {
   "cell_type": "code",
   "execution_count": 74,
   "metadata": {},
   "outputs": [],
   "source": [
    "latt = []\n",
    "l = -1\n",
    "while l < 560:\n",
    "    l += 1\n",
    "    latti = la[l].text\n",
    "    latt.append(latti)"
   ]
  },
  {
   "cell_type": "code",
   "execution_count": 83,
   "metadata": {},
   "outputs": [],
   "source": [
    "ab = []\n",
    "aas = 2\n",
    "while aas <= 562:\n",
    "    aas += 1\n",
    "    longrow = browser.find_elements_by_xpath('/html/body/table[2]/tbody/tr[{aas}]/td[3]'.format(aas=aas))\n",
    "    ab.extend(longrow)\n",
    "    # print(aas)"
   ]
  },
  {
   "cell_type": "code",
   "execution_count": 84,
   "metadata": {},
   "outputs": [],
   "source": [
    "long = []\n",
    "d = -1\n",
    "while d < 560:\n",
    "    d += 1\n",
    "    lon = ab[d].text\n",
    "    long.append(lon)"
   ]
  },
  {
   "cell_type": "code",
   "execution_count": 85,
   "metadata": {},
   "outputs": [],
   "source": [
    "# depth = td[4]\n",
    "dpt = []\n",
    "dept = 2\n",
    "while dept <= 562:\n",
    "    dept += 1\n",
    "    depthrow = browser.find_elements_by_xpath('/html/body/table[2]/tbody/tr[{dept}]/td[4]'.format(dept=dept))\n",
    "    dpt.extend(depthrow)"
   ]
  },
  {
   "cell_type": "code",
   "execution_count": 86,
   "metadata": {},
   "outputs": [],
   "source": [
    "depth = []\n",
    "a = -1\n",
    "while a < 560:\n",
    "    a += 1\n",
    "    dep = dpt[a].text\n",
    "    depth.append(dep)"
   ]
  },
  {
   "cell_type": "code",
   "execution_count": 87,
   "metadata": {},
   "outputs": [],
   "source": [
    "# mag = td[5]\n",
    "mg = []\n",
    "magn = 2\n",
    "while magn <= 562:\n",
    "    magn += 1\n",
    "    magrow = browser.find_elements_by_xpath('/html/body/table[2]/tbody/tr[{magn}]/td[5]'.format(magn=magn))\n",
    "    mg.extend(magrow)"
   ]
  },
  {
   "cell_type": "code",
   "execution_count": 88,
   "metadata": {},
   "outputs": [],
   "source": [
    "mag = []\n",
    "c = -1\n",
    "while c < 560:\n",
    "    c += 1\n",
    "    magnt = mg[c].text\n",
    "    mag.append(magnt)"
   ]
  },
  {
   "cell_type": "code",
   "execution_count": 89,
   "metadata": {},
   "outputs": [],
   "source": [
    "# locat = td[6]\n",
    "locrow = browser.find_elements_by_class_name('auto-style52')\n",
    "loc = []\n",
    "d = -1\n",
    "while d < 560:\n",
    "    d += 1\n",
    "    loct = locrow[d].text\n",
    "    loc.append(loct)"
   ]
  },
  {
   "cell_type": "code",
   "execution_count": 90,
   "metadata": {},
   "outputs": [],
   "source": [
    "# date, latt, long, depth, mag, loc -- \n",
    "import pandas as pd"
   ]
  },
  {
   "cell_type": "code",
   "execution_count": 102,
   "metadata": {},
   "outputs": [],
   "source": [
    "data = {header[0]:date,header[1]:latt,header[2]:long,header[3]:depth,header[4]:mag,header[5]:loc}"
   ]
  },
  {
   "cell_type": "code",
   "execution_count": 105,
   "metadata": {},
   "outputs": [],
   "source": [
    "philocs_df = pd.DataFrame(data)"
   ]
  },
  {
   "cell_type": "code",
   "execution_count": 107,
   "metadata": {},
   "outputs": [
    {
     "data": {
      "text/html": [
       "<div>\n",
       "<style scoped>\n",
       "    .dataframe tbody tr th:only-of-type {\n",
       "        vertical-align: middle;\n",
       "    }\n",
       "\n",
       "    .dataframe tbody tr th {\n",
       "        vertical-align: top;\n",
       "    }\n",
       "\n",
       "    .dataframe thead th {\n",
       "        text-align: right;\n",
       "    }\n",
       "</style>\n",
       "<table border=\"1\" class=\"dataframe\">\n",
       "  <thead>\n",
       "    <tr style=\"text-align: right;\">\n",
       "      <th></th>\n",
       "      <th>Date - Time\n",
       "(Philippine Time)</th>\n",
       "      <th>Latitude\n",
       "(ºN)</th>\n",
       "      <th>Longitude\n",
       "(ºE)</th>\n",
       "      <th>Depth\n",
       "(km)</th>\n",
       "      <th>Mag</th>\n",
       "      <th>Location</th>\n",
       "    </tr>\n",
       "  </thead>\n",
       "  <tbody>\n",
       "    <tr>\n",
       "      <th>0</th>\n",
       "      <td>31 December 2018 - 10:47 PM</td>\n",
       "      <td>08.62</td>\n",
       "      <td>126.01</td>\n",
       "      <td>010</td>\n",
       "      <td>2.0</td>\n",
       "      <td>011 km N 61° E of Prosperidad (Agusan Del Sur)</td>\n",
       "    </tr>\n",
       "    <tr>\n",
       "      <th>1</th>\n",
       "      <td>31 December 2018 - 10:16 PM</td>\n",
       "      <td>12.92</td>\n",
       "      <td>122.80</td>\n",
       "      <td>014</td>\n",
       "      <td>2.5</td>\n",
       "      <td>040 km N 80° W of Claveria (Masbate)</td>\n",
       "    </tr>\n",
       "    <tr>\n",
       "      <th>2</th>\n",
       "      <td>31 December 2018 - 10:14 PM</td>\n",
       "      <td>05.61</td>\n",
       "      <td>126.92</td>\n",
       "      <td>032</td>\n",
       "      <td>3.7</td>\n",
       "      <td>148 km S 39° E of Governor Generoso (Davao Ori...</td>\n",
       "    </tr>\n",
       "    <tr>\n",
       "      <th>3</th>\n",
       "      <td>31 December 2018 - 07:43 PM</td>\n",
       "      <td>05.52</td>\n",
       "      <td>126.96</td>\n",
       "      <td>031</td>\n",
       "      <td>2.7</td>\n",
       "      <td>159 km S 38° E of Governor Generoso (Davao Ori...</td>\n",
       "    </tr>\n",
       "    <tr>\n",
       "      <th>4</th>\n",
       "      <td>31 December 2018 - 06:46 PM</td>\n",
       "      <td>05.48</td>\n",
       "      <td>126.35</td>\n",
       "      <td>001</td>\n",
       "      <td>3.2</td>\n",
       "      <td>093 km S 61° E of Jose Abad Santos (Davao Occi...</td>\n",
       "    </tr>\n",
       "    <tr>\n",
       "      <th>5</th>\n",
       "      <td>31 December 2018 - 06:41 PM</td>\n",
       "      <td>10.78</td>\n",
       "      <td>125.69</td>\n",
       "      <td>022</td>\n",
       "      <td>2.6</td>\n",
       "      <td>028 km S 08° W of Guiuan (Eastern Samar)</td>\n",
       "    </tr>\n",
       "    <tr>\n",
       "      <th>6</th>\n",
       "      <td>31 December 2018 - 03:04 PM</td>\n",
       "      <td>05.52</td>\n",
       "      <td>126.82</td>\n",
       "      <td>035</td>\n",
       "      <td>2.5</td>\n",
       "      <td>150 km S 33° E of Governor Generoso (Davao Ori...</td>\n",
       "    </tr>\n",
       "    <tr>\n",
       "      <th>7</th>\n",
       "      <td>31 December 2018 - 02:51 PM</td>\n",
       "      <td>09.40</td>\n",
       "      <td>126.17</td>\n",
       "      <td>018</td>\n",
       "      <td>2.3</td>\n",
       "      <td>014 km N 10° W of Cortes (Surigao Del Sur)</td>\n",
       "    </tr>\n",
       "    <tr>\n",
       "      <th>8</th>\n",
       "      <td>31 December 2018 - 01:49 PM</td>\n",
       "      <td>13.95</td>\n",
       "      <td>120.48</td>\n",
       "      <td>113</td>\n",
       "      <td>2.3</td>\n",
       "      <td>021 km S 49° W of Nasugbu (Batangas)</td>\n",
       "    </tr>\n",
       "    <tr>\n",
       "      <th>9</th>\n",
       "      <td>31 December 2018 - 01:27 PM</td>\n",
       "      <td>09.93</td>\n",
       "      <td>123.19</td>\n",
       "      <td>024</td>\n",
       "      <td>2.9</td>\n",
       "      <td>002 km S 79° E of Tayasan (Negros Oriental)</td>\n",
       "    </tr>\n",
       "    <tr>\n",
       "      <th>10</th>\n",
       "      <td>31 December 2018 - 01:16 PM</td>\n",
       "      <td>05.69</td>\n",
       "      <td>126.38</td>\n",
       "      <td>030</td>\n",
       "      <td>3.1</td>\n",
       "      <td>095 km S 54° E of Don Marcelino (Davao Occiden...</td>\n",
       "    </tr>\n",
       "    <tr>\n",
       "      <th>11</th>\n",
       "      <td>31 December 2018 - 01:09 PM</td>\n",
       "      <td>05.46</td>\n",
       "      <td>126.96</td>\n",
       "      <td>050</td>\n",
       "      <td>3.4</td>\n",
       "      <td>164 km S 36° E of Governor Generoso (Davao Ori...</td>\n",
       "    </tr>\n",
       "    <tr>\n",
       "      <th>12</th>\n",
       "      <td>31 December 2018 - 12:27 PM</td>\n",
       "      <td>11.26</td>\n",
       "      <td>127.03</td>\n",
       "      <td>033</td>\n",
       "      <td>2.9</td>\n",
       "      <td>145 km N 80° E of Guiuan (Eastern Samar)</td>\n",
       "    </tr>\n",
       "    <tr>\n",
       "      <th>13</th>\n",
       "      <td>31 December 2018 - 11:53 AM</td>\n",
       "      <td>14.30</td>\n",
       "      <td>120.17</td>\n",
       "      <td>006</td>\n",
       "      <td>2.0</td>\n",
       "      <td>037 km S 65° W of Mariveles (Bataan)</td>\n",
       "    </tr>\n",
       "    <tr>\n",
       "      <th>14</th>\n",
       "      <td>31 December 2018 - 11:34 AM</td>\n",
       "      <td>15.02</td>\n",
       "      <td>121.33</td>\n",
       "      <td>013</td>\n",
       "      <td>2.5</td>\n",
       "      <td>025 km N 77° E of Doña Remedios Trinidad (Bula...</td>\n",
       "    </tr>\n",
       "    <tr>\n",
       "      <th>15</th>\n",
       "      <td>31 December 2018 - 11:27 AM</td>\n",
       "      <td>06.15</td>\n",
       "      <td>125.11</td>\n",
       "      <td>005</td>\n",
       "      <td>2.1</td>\n",
       "      <td>008 km N 54° W of General Santos City (South C...</td>\n",
       "    </tr>\n",
       "    <tr>\n",
       "      <th>16</th>\n",
       "      <td>31 December 2018 - 09:26 AM</td>\n",
       "      <td>05.33</td>\n",
       "      <td>126.81</td>\n",
       "      <td>015</td>\n",
       "      <td>3.4</td>\n",
       "      <td>148 km S 86° E of Sarangani (Davao Occidental)</td>\n",
       "    </tr>\n",
       "    <tr>\n",
       "      <th>17</th>\n",
       "      <td>31 December 2018 - 07:00 AM</td>\n",
       "      <td>13.62</td>\n",
       "      <td>120.93</td>\n",
       "      <td>001</td>\n",
       "      <td>2.5</td>\n",
       "      <td>008 km S 59° E of Tingloy (Batangas)</td>\n",
       "    </tr>\n",
       "    <tr>\n",
       "      <th>18</th>\n",
       "      <td>31 December 2018 - 06:19 AM</td>\n",
       "      <td>12.86</td>\n",
       "      <td>122.83</td>\n",
       "      <td>006</td>\n",
       "      <td>2.6</td>\n",
       "      <td>046 km S 83° W of Claveria (Masbate)</td>\n",
       "    </tr>\n",
       "    <tr>\n",
       "      <th>19</th>\n",
       "      <td>31 December 2018 - 06:14 AM</td>\n",
       "      <td>12.86</td>\n",
       "      <td>122.83</td>\n",
       "      <td>018</td>\n",
       "      <td>2.5</td>\n",
       "      <td>046 km S 85° W of Claveria (Masbate)</td>\n",
       "    </tr>\n",
       "    <tr>\n",
       "      <th>20</th>\n",
       "      <td>31 December 2018 - 05:46 AM</td>\n",
       "      <td>16.22</td>\n",
       "      <td>120.09</td>\n",
       "      <td>048</td>\n",
       "      <td>2.5</td>\n",
       "      <td>014 km N 62° E of Alaminos City (Pangasinan)</td>\n",
       "    </tr>\n",
       "    <tr>\n",
       "      <th>21</th>\n",
       "      <td>31 December 2018 - 04:59 AM</td>\n",
       "      <td>06.12</td>\n",
       "      <td>127.53</td>\n",
       "      <td>010</td>\n",
       "      <td>3.5</td>\n",
       "      <td>158 km S 49° E of Tarragona (Davao Oriental)</td>\n",
       "    </tr>\n",
       "    <tr>\n",
       "      <th>22</th>\n",
       "      <td>31 December 2018 - 03:16 AM</td>\n",
       "      <td>06.54</td>\n",
       "      <td>125.95</td>\n",
       "      <td>033</td>\n",
       "      <td>2.4</td>\n",
       "      <td>018 km S 47° W of Governor Generoso (Davao Ori...</td>\n",
       "    </tr>\n",
       "    <tr>\n",
       "      <th>23</th>\n",
       "      <td>31 December 2018 - 03:07 AM</td>\n",
       "      <td>12.87</td>\n",
       "      <td>122.87</td>\n",
       "      <td>002</td>\n",
       "      <td>3.8</td>\n",
       "      <td>041 km S 85° W of Claveria (Masbate)</td>\n",
       "    </tr>\n",
       "    <tr>\n",
       "      <th>24</th>\n",
       "      <td>31 December 2018 - 03:03 AM</td>\n",
       "      <td>12.86</td>\n",
       "      <td>122.85</td>\n",
       "      <td>007</td>\n",
       "      <td>2.6</td>\n",
       "      <td>043 km S 84° W of Claveria (Masbate)</td>\n",
       "    </tr>\n",
       "    <tr>\n",
       "      <th>25</th>\n",
       "      <td>31 December 2018 - 03:01 AM</td>\n",
       "      <td>12.96</td>\n",
       "      <td>122.74</td>\n",
       "      <td>017</td>\n",
       "      <td>2.5</td>\n",
       "      <td>056 km N 83° W of Claveria (Masbate)</td>\n",
       "    </tr>\n",
       "    <tr>\n",
       "      <th>26</th>\n",
       "      <td>31 December 2018 - 02:24 AM</td>\n",
       "      <td>05.54</td>\n",
       "      <td>126.69</td>\n",
       "      <td>012</td>\n",
       "      <td>2.8</td>\n",
       "      <td>140 km S 29° E of Governor Generoso (Davao Ori...</td>\n",
       "    </tr>\n",
       "    <tr>\n",
       "      <th>27</th>\n",
       "      <td>31 December 2018 - 02:13 AM</td>\n",
       "      <td>05.44</td>\n",
       "      <td>126.67</td>\n",
       "      <td>004</td>\n",
       "      <td>2.8</td>\n",
       "      <td>149 km S 26° E of Governor Generoso (Davao Ori...</td>\n",
       "    </tr>\n",
       "    <tr>\n",
       "      <th>28</th>\n",
       "      <td>31 December 2018 - 12:25 AM</td>\n",
       "      <td>10.12</td>\n",
       "      <td>122.49</td>\n",
       "      <td>002</td>\n",
       "      <td>2.4</td>\n",
       "      <td>022 km N 41° W of Cauayan (Negros Occidental)</td>\n",
       "    </tr>\n",
       "    <tr>\n",
       "      <th>29</th>\n",
       "      <td>31 December 2018 - 12:08 AM</td>\n",
       "      <td>12.86</td>\n",
       "      <td>122.83</td>\n",
       "      <td>004</td>\n",
       "      <td>3.5</td>\n",
       "      <td>046 km S 84° E of Claveria (Masbate)</td>\n",
       "    </tr>\n",
       "    <tr>\n",
       "      <th>...</th>\n",
       "      <td>...</td>\n",
       "      <td>...</td>\n",
       "      <td>...</td>\n",
       "      <td>...</td>\n",
       "      <td>...</td>\n",
       "      <td>...</td>\n",
       "    </tr>\n",
       "    <tr>\n",
       "      <th>531</th>\n",
       "      <td>02 December 2018 - 04:50 PM</td>\n",
       "      <td>13.58</td>\n",
       "      <td>120.77</td>\n",
       "      <td>123</td>\n",
       "      <td>3.0</td>\n",
       "      <td>015 km N 18° E of Abra De Ilog (Occidental Min...</td>\n",
       "    </tr>\n",
       "    <tr>\n",
       "      <th>532</th>\n",
       "      <td>02 December 2018 - 03:44 PM</td>\n",
       "      <td>14.11</td>\n",
       "      <td>120.69</td>\n",
       "      <td>209</td>\n",
       "      <td>2.5</td>\n",
       "      <td>008 km N 63° E of Nasugbu (Batangas)</td>\n",
       "    </tr>\n",
       "    <tr>\n",
       "      <th>533</th>\n",
       "      <td>02 December 2018 - 03:31 PM</td>\n",
       "      <td>07.77</td>\n",
       "      <td>121.94</td>\n",
       "      <td>016</td>\n",
       "      <td>3.0</td>\n",
       "      <td>023 km S 79° W of Baliguian (Zamboanga Del Norte)</td>\n",
       "    </tr>\n",
       "    <tr>\n",
       "      <th>534</th>\n",
       "      <td>02 December 2018 - 02:47 PM</td>\n",
       "      <td>20.26</td>\n",
       "      <td>122.14</td>\n",
       "      <td>032</td>\n",
       "      <td>2.1</td>\n",
       "      <td>023 km S 64° E of Uyugan (Batanes)</td>\n",
       "    </tr>\n",
       "    <tr>\n",
       "      <th>535</th>\n",
       "      <td>02 December 2018 - 02:32 PM</td>\n",
       "      <td>10.50</td>\n",
       "      <td>126.02</td>\n",
       "      <td>032</td>\n",
       "      <td>2.7</td>\n",
       "      <td>051 km N 73° E of Loreto (Dinagat)</td>\n",
       "    </tr>\n",
       "    <tr>\n",
       "      <th>536</th>\n",
       "      <td>02 December 2018 - 08:33 AM</td>\n",
       "      <td>05.60</td>\n",
       "      <td>126.46</td>\n",
       "      <td>117</td>\n",
       "      <td>2.1</td>\n",
       "      <td>098 km S 71° E of Jose Abad Santos (Davao Occi...</td>\n",
       "    </tr>\n",
       "    <tr>\n",
       "      <th>537</th>\n",
       "      <td>02 December 2018 - 06:12 AM</td>\n",
       "      <td>15.61</td>\n",
       "      <td>119.94</td>\n",
       "      <td>030</td>\n",
       "      <td>2.3</td>\n",
       "      <td>002 km S 26° E of Candelaria (Zambales)</td>\n",
       "    </tr>\n",
       "    <tr>\n",
       "      <th>538</th>\n",
       "      <td>02 December 2018 - 05:31 AM</td>\n",
       "      <td>05.54</td>\n",
       "      <td>126.71</td>\n",
       "      <td>033</td>\n",
       "      <td>2.5</td>\n",
       "      <td>127 km S 73° E of Jose Abad Santos (Davao Occi...</td>\n",
       "    </tr>\n",
       "    <tr>\n",
       "      <th>539</th>\n",
       "      <td>02 December 2018 - 04:35 AM</td>\n",
       "      <td>10.69</td>\n",
       "      <td>126.47</td>\n",
       "      <td>021</td>\n",
       "      <td>2.0</td>\n",
       "      <td>085 km N 30° E of Burgos (Surigao Del Norte)</td>\n",
       "    </tr>\n",
       "    <tr>\n",
       "      <th>540</th>\n",
       "      <td>02 December 2018 - 04:11 AM</td>\n",
       "      <td>10.69</td>\n",
       "      <td>125.89</td>\n",
       "      <td>011</td>\n",
       "      <td>2.0</td>\n",
       "      <td>042 km S 26° E of Guiuan (Eastern Samar)</td>\n",
       "    </tr>\n",
       "    <tr>\n",
       "      <th>541</th>\n",
       "      <td>02 December 2018 - 03:51 AM</td>\n",
       "      <td>13.30</td>\n",
       "      <td>125.34</td>\n",
       "      <td>051</td>\n",
       "      <td>2.6</td>\n",
       "      <td>086 km N 16° E of Palapag (Northern Samar)</td>\n",
       "    </tr>\n",
       "    <tr>\n",
       "      <th>542</th>\n",
       "      <td>02 December 2018 - 01:21 AM</td>\n",
       "      <td>14.53</td>\n",
       "      <td>123.83</td>\n",
       "      <td>007</td>\n",
       "      <td>2.4</td>\n",
       "      <td>064 km N 34° W of Pandan (Catanduanes)</td>\n",
       "    </tr>\n",
       "    <tr>\n",
       "      <th>543</th>\n",
       "      <td>02 December 2018 - 12:11 AM</td>\n",
       "      <td>13.59</td>\n",
       "      <td>120.67</td>\n",
       "      <td>009</td>\n",
       "      <td>2.4</td>\n",
       "      <td>018 km N 23° W of Abra De Ilog (Occidental Min...</td>\n",
       "    </tr>\n",
       "    <tr>\n",
       "      <th>544</th>\n",
       "      <td>01 December 2018 - 11:59 PM</td>\n",
       "      <td>06.88</td>\n",
       "      <td>126.57</td>\n",
       "      <td>165</td>\n",
       "      <td>2.4</td>\n",
       "      <td>022 km S 36° E of Tarragona (Davao Oriental)</td>\n",
       "    </tr>\n",
       "    <tr>\n",
       "      <th>545</th>\n",
       "      <td>01 December 2018 - 11:11 PM</td>\n",
       "      <td>05.97</td>\n",
       "      <td>127.04</td>\n",
       "      <td>086</td>\n",
       "      <td>2.5</td>\n",
       "      <td>131 km S 55° E of Governor Generoso (Davao Ori...</td>\n",
       "    </tr>\n",
       "    <tr>\n",
       "      <th>546</th>\n",
       "      <td>01 December 2018 - 11:06 PM</td>\n",
       "      <td>12.81</td>\n",
       "      <td>124.82</td>\n",
       "      <td>011</td>\n",
       "      <td>3.5</td>\n",
       "      <td>030 km N 23° W of Pambujan (Northern Samar)</td>\n",
       "    </tr>\n",
       "    <tr>\n",
       "      <th>547</th>\n",
       "      <td>01 December 2018 - 08:02 PM</td>\n",
       "      <td>09.67</td>\n",
       "      <td>124.53</td>\n",
       "      <td>012</td>\n",
       "      <td>1.9</td>\n",
       "      <td>014 km S 73° E of Duero (Bohol)</td>\n",
       "    </tr>\n",
       "    <tr>\n",
       "      <th>548</th>\n",
       "      <td>01 December 2018 - 07:08 PM</td>\n",
       "      <td>06.52</td>\n",
       "      <td>125.64</td>\n",
       "      <td>187</td>\n",
       "      <td>2.5</td>\n",
       "      <td>012 km N 18° E of Malita (Davao Occidental)</td>\n",
       "    </tr>\n",
       "    <tr>\n",
       "      <th>549</th>\n",
       "      <td>01 December 2018 - 06:28 PM</td>\n",
       "      <td>13.27</td>\n",
       "      <td>125.35</td>\n",
       "      <td>007</td>\n",
       "      <td>2.6</td>\n",
       "      <td>084 km N 18° E of Palapag (Northern Samar)</td>\n",
       "    </tr>\n",
       "    <tr>\n",
       "      <th>550</th>\n",
       "      <td>01 December 2018 - 05:24 PM</td>\n",
       "      <td>05.04</td>\n",
       "      <td>127.24</td>\n",
       "      <td>118</td>\n",
       "      <td>2.8</td>\n",
       "      <td>203 km S 63° E of Jose Abad Santos (Davao Occi...</td>\n",
       "    </tr>\n",
       "    <tr>\n",
       "      <th>551</th>\n",
       "      <td>01 December 2018 - 03:59 PM</td>\n",
       "      <td>13.88</td>\n",
       "      <td>120.48</td>\n",
       "      <td>093</td>\n",
       "      <td>2.8</td>\n",
       "      <td>018 km N 71° W of Calatagan (Batangas)</td>\n",
       "    </tr>\n",
       "    <tr>\n",
       "      <th>552</th>\n",
       "      <td>01 December 2018 - 02:47 PM</td>\n",
       "      <td>10.22</td>\n",
       "      <td>125.33</td>\n",
       "      <td>040</td>\n",
       "      <td>2.1</td>\n",
       "      <td>009 km S 54° E of Anahawan (Southern Leyte)</td>\n",
       "    </tr>\n",
       "    <tr>\n",
       "      <th>553</th>\n",
       "      <td>01 December 2018 - 02:18 PM</td>\n",
       "      <td>05.33</td>\n",
       "      <td>124.83</td>\n",
       "      <td>029</td>\n",
       "      <td>2.4</td>\n",
       "      <td>061 km S 18° W of Maasim (Sarangani)</td>\n",
       "    </tr>\n",
       "    <tr>\n",
       "      <th>554</th>\n",
       "      <td>01 December 2018 - 11:54 AM</td>\n",
       "      <td>16.64</td>\n",
       "      <td>120.72</td>\n",
       "      <td>020</td>\n",
       "      <td>2.0</td>\n",
       "      <td>008 km S 48° E of Kibungan (Benguet)</td>\n",
       "    </tr>\n",
       "    <tr>\n",
       "      <th>555</th>\n",
       "      <td>01 December 2018 - 09:23 AM</td>\n",
       "      <td>04.56</td>\n",
       "      <td>126.33</td>\n",
       "      <td>127</td>\n",
       "      <td>3.2</td>\n",
       "      <td>135 km S 44° E of Sarangani (Davao Occidental)</td>\n",
       "    </tr>\n",
       "    <tr>\n",
       "      <th>556</th>\n",
       "      <td>01 December 2018 - 08:57 AM</td>\n",
       "      <td>15.00</td>\n",
       "      <td>119.97</td>\n",
       "      <td>027</td>\n",
       "      <td>2.5</td>\n",
       "      <td>012 km S 82° W of San Narciso (Zambales)</td>\n",
       "    </tr>\n",
       "    <tr>\n",
       "      <th>557</th>\n",
       "      <td>01 December 2018 - 08:49 AM</td>\n",
       "      <td>10.22</td>\n",
       "      <td>123.23</td>\n",
       "      <td>013</td>\n",
       "      <td>2.2</td>\n",
       "      <td>012 km N 23° W of Guihulngan (Negros Oriental)</td>\n",
       "    </tr>\n",
       "    <tr>\n",
       "      <th>558</th>\n",
       "      <td>01 December 2018 - 05:01 AM</td>\n",
       "      <td>09.87</td>\n",
       "      <td>125.42</td>\n",
       "      <td>016</td>\n",
       "      <td>2.6</td>\n",
       "      <td>020 km N 30° E of San Francisco (Anao-aon) (Su...</td>\n",
       "    </tr>\n",
       "    <tr>\n",
       "      <th>559</th>\n",
       "      <td>01 December 2018 - 02:07 AM</td>\n",
       "      <td>09.84</td>\n",
       "      <td>126.23</td>\n",
       "      <td>004</td>\n",
       "      <td>3.2</td>\n",
       "      <td>011 km N 53° E of General Luna (Surigao Del No...</td>\n",
       "    </tr>\n",
       "    <tr>\n",
       "      <th>560</th>\n",
       "      <td>01 December 2018 - 01:39 AM</td>\n",
       "      <td>10.24</td>\n",
       "      <td>122.42</td>\n",
       "      <td>005</td>\n",
       "      <td>2.1</td>\n",
       "      <td>034 km S 23° W of  Nueva Valencia (Guimaras)</td>\n",
       "    </tr>\n",
       "  </tbody>\n",
       "</table>\n",
       "<p>561 rows × 6 columns</p>\n",
       "</div>"
      ],
      "text/plain": [
       "    Date - Time\\n(Philippine Time) Latitude\\n(ºN) Longitude\\n(ºE) Depth\\n(km)  \\\n",
       "0      31 December 2018 - 10:47 PM          08.62          126.01         010   \n",
       "1      31 December 2018 - 10:16 PM          12.92          122.80         014   \n",
       "2      31 December 2018 - 10:14 PM          05.61          126.92         032   \n",
       "3      31 December 2018 - 07:43 PM          05.52          126.96         031   \n",
       "4      31 December 2018 - 06:46 PM          05.48          126.35         001   \n",
       "5      31 December 2018 - 06:41 PM          10.78          125.69         022   \n",
       "6      31 December 2018 - 03:04 PM          05.52          126.82         035   \n",
       "7      31 December 2018 - 02:51 PM          09.40          126.17         018   \n",
       "8      31 December 2018 - 01:49 PM          13.95          120.48         113   \n",
       "9      31 December 2018 - 01:27 PM          09.93          123.19         024   \n",
       "10     31 December 2018 - 01:16 PM          05.69          126.38         030   \n",
       "11     31 December 2018 - 01:09 PM          05.46          126.96         050   \n",
       "12     31 December 2018 - 12:27 PM          11.26          127.03         033   \n",
       "13     31 December 2018 - 11:53 AM          14.30          120.17         006   \n",
       "14     31 December 2018 - 11:34 AM         15.02           121.33         013   \n",
       "15     31 December 2018 - 11:27 AM          06.15          125.11         005   \n",
       "16     31 December 2018 - 09:26 AM          05.33          126.81         015   \n",
       "17     31 December 2018 - 07:00 AM          13.62          120.93         001   \n",
       "18     31 December 2018 - 06:19 AM          12.86          122.83         006   \n",
       "19     31 December 2018 - 06:14 AM          12.86          122.83         018   \n",
       "20     31 December 2018 - 05:46 AM          16.22          120.09         048   \n",
       "21     31 December 2018 - 04:59 AM          06.12          127.53         010   \n",
       "22     31 December 2018 - 03:16 AM          06.54          125.95         033   \n",
       "23     31 December 2018 - 03:07 AM          12.87          122.87         002   \n",
       "24     31 December 2018 - 03:03 AM          12.86          122.85         007   \n",
       "25     31 December 2018 - 03:01 AM          12.96          122.74         017   \n",
       "26     31 December 2018 - 02:24 AM          05.54          126.69         012   \n",
       "27     31 December 2018 - 02:13 AM          05.44          126.67         004   \n",
       "28     31 December 2018 - 12:25 AM          10.12          122.49         002   \n",
       "29     31 December 2018 - 12:08 AM          12.86          122.83         004   \n",
       "..                             ...            ...             ...         ...   \n",
       "531    02 December 2018 - 04:50 PM          13.58          120.77         123   \n",
       "532    02 December 2018 - 03:44 PM          14.11          120.69         209   \n",
       "533    02 December 2018 - 03:31 PM          07.77          121.94         016   \n",
       "534    02 December 2018 - 02:47 PM          20.26          122.14         032   \n",
       "535    02 December 2018 - 02:32 PM          10.50          126.02         032   \n",
       "536    02 December 2018 - 08:33 AM          05.60          126.46         117   \n",
       "537    02 December 2018 - 06:12 AM          15.61          119.94         030   \n",
       "538    02 December 2018 - 05:31 AM          05.54          126.71         033   \n",
       "539    02 December 2018 - 04:35 AM          10.69          126.47         021   \n",
       "540    02 December 2018 - 04:11 AM          10.69          125.89         011   \n",
       "541    02 December 2018 - 03:51 AM          13.30          125.34         051   \n",
       "542    02 December 2018 - 01:21 AM          14.53          123.83         007   \n",
       "543    02 December 2018 - 12:11 AM          13.59          120.67         009   \n",
       "544    01 December 2018 - 11:59 PM          06.88          126.57         165   \n",
       "545    01 December 2018 - 11:11 PM          05.97          127.04         086   \n",
       "546    01 December 2018 - 11:06 PM          12.81          124.82         011   \n",
       "547    01 December 2018 - 08:02 PM          09.67          124.53         012   \n",
       "548    01 December 2018 - 07:08 PM          06.52          125.64         187   \n",
       "549    01 December 2018 - 06:28 PM          13.27          125.35         007   \n",
       "550    01 December 2018 - 05:24 PM          05.04          127.24         118   \n",
       "551    01 December 2018 - 03:59 PM          13.88          120.48         093   \n",
       "552    01 December 2018 - 02:47 PM          10.22          125.33         040   \n",
       "553    01 December 2018 - 02:18 PM          05.33          124.83         029   \n",
       "554    01 December 2018 - 11:54 AM          16.64          120.72         020   \n",
       "555    01 December 2018 - 09:23 AM          04.56          126.33         127   \n",
       "556    01 December 2018 - 08:57 AM          15.00          119.97         027   \n",
       "557    01 December 2018 - 08:49 AM          10.22          123.23         013   \n",
       "558    01 December 2018 - 05:01 AM          09.87          125.42         016   \n",
       "559    01 December 2018 - 02:07 AM          09.84          126.23         004   \n",
       "560    01 December 2018 - 01:39 AM          10.24          122.42         005   \n",
       "\n",
       "     Mag                                           Location  \n",
       "0    2.0     011 km N 61° E of Prosperidad (Agusan Del Sur)  \n",
       "1    2.5               040 km N 80° W of Claveria (Masbate)  \n",
       "2    3.7  148 km S 39° E of Governor Generoso (Davao Ori...  \n",
       "3    2.7  159 km S 38° E of Governor Generoso (Davao Ori...  \n",
       "4    3.2  093 km S 61° E of Jose Abad Santos (Davao Occi...  \n",
       "5    2.6           028 km S 08° W of Guiuan (Eastern Samar)  \n",
       "6    2.5  150 km S 33° E of Governor Generoso (Davao Ori...  \n",
       "7    2.3         014 km N 10° W of Cortes (Surigao Del Sur)  \n",
       "8    2.3               021 km S 49° W of Nasugbu (Batangas)  \n",
       "9    2.9        002 km S 79° E of Tayasan (Negros Oriental)  \n",
       "10   3.1  095 km S 54° E of Don Marcelino (Davao Occiden...  \n",
       "11   3.4  164 km S 36° E of Governor Generoso (Davao Ori...  \n",
       "12   2.9           145 km N 80° E of Guiuan (Eastern Samar)  \n",
       "13   2.0               037 km S 65° W of Mariveles (Bataan)  \n",
       "14   2.5  025 km N 77° E of Doña Remedios Trinidad (Bula...  \n",
       "15   2.1  008 km N 54° W of General Santos City (South C...  \n",
       "16   3.4     148 km S 86° E of Sarangani (Davao Occidental)  \n",
       "17   2.5               008 km S 59° E of Tingloy (Batangas)  \n",
       "18   2.6               046 km S 83° W of Claveria (Masbate)  \n",
       "19   2.5               046 km S 85° W of Claveria (Masbate)  \n",
       "20   2.5       014 km N 62° E of Alaminos City (Pangasinan)  \n",
       "21   3.5       158 km S 49° E of Tarragona (Davao Oriental)  \n",
       "22   2.4  018 km S 47° W of Governor Generoso (Davao Ori...  \n",
       "23   3.8               041 km S 85° W of Claveria (Masbate)  \n",
       "24   2.6               043 km S 84° W of Claveria (Masbate)  \n",
       "25   2.5               056 km N 83° W of Claveria (Masbate)  \n",
       "26   2.8  140 km S 29° E of Governor Generoso (Davao Ori...  \n",
       "27   2.8  149 km S 26° E of Governor Generoso (Davao Ori...  \n",
       "28   2.4      022 km N 41° W of Cauayan (Negros Occidental)  \n",
       "29   3.5               046 km S 84° E of Claveria (Masbate)  \n",
       "..   ...                                                ...  \n",
       "531  3.0  015 km N 18° E of Abra De Ilog (Occidental Min...  \n",
       "532  2.5               008 km N 63° E of Nasugbu (Batangas)  \n",
       "533  3.0  023 km S 79° W of Baliguian (Zamboanga Del Norte)  \n",
       "534  2.1                 023 km S 64° E of Uyugan (Batanes)  \n",
       "535  2.7                 051 km N 73° E of Loreto (Dinagat)  \n",
       "536  2.1  098 km S 71° E of Jose Abad Santos (Davao Occi...  \n",
       "537  2.3            002 km S 26° E of Candelaria (Zambales)  \n",
       "538  2.5  127 km S 73° E of Jose Abad Santos (Davao Occi...  \n",
       "539  2.0       085 km N 30° E of Burgos (Surigao Del Norte)  \n",
       "540  2.0           042 km S 26° E of Guiuan (Eastern Samar)  \n",
       "541  2.6         086 km N 16° E of Palapag (Northern Samar)  \n",
       "542  2.4             064 km N 34° W of Pandan (Catanduanes)  \n",
       "543  2.4  018 km N 23° W of Abra De Ilog (Occidental Min...  \n",
       "544  2.4       022 km S 36° E of Tarragona (Davao Oriental)  \n",
       "545  2.5  131 km S 55° E of Governor Generoso (Davao Ori...  \n",
       "546  3.5        030 km N 23° W of Pambujan (Northern Samar)  \n",
       "547  1.9                    014 km S 73° E of Duero (Bohol)  \n",
       "548  2.5        012 km N 18° E of Malita (Davao Occidental)  \n",
       "549  2.6         084 km N 18° E of Palapag (Northern Samar)  \n",
       "550  2.8  203 km S 63° E of Jose Abad Santos (Davao Occi...  \n",
       "551  2.8             018 km N 71° W of Calatagan (Batangas)  \n",
       "552  2.1        009 km S 54° E of Anahawan (Southern Leyte)  \n",
       "553  2.4               061 km S 18° W of Maasim (Sarangani)  \n",
       "554  2.0               008 km S 48° E of Kibungan (Benguet)  \n",
       "555  3.2     135 km S 44° E of Sarangani (Davao Occidental)  \n",
       "556  2.5           012 km S 82° W of San Narciso (Zambales)  \n",
       "557  2.2     012 km N 23° W of Guihulngan (Negros Oriental)  \n",
       "558  2.6  020 km N 30° E of San Francisco (Anao-aon) (Su...  \n",
       "559  3.2  011 km N 53° E of General Luna (Surigao Del No...  \n",
       "560  2.1       034 km S 23° W of  Nueva Valencia (Guimaras)  \n",
       "\n",
       "[561 rows x 6 columns]"
      ]
     },
     "execution_count": 107,
     "metadata": {},
     "output_type": "execute_result"
    }
   ],
   "source": [
    "philocs_df"
   ]
  },
  {
   "cell_type": "markdown",
   "metadata": {},
   "source": [
    "### November"
   ]
  },
  {
   "cell_type": "code",
   "execution_count": 3,
   "metadata": {},
   "outputs": [],
   "source": [
    "url_nov = \"https://earthquake.phivolcs.dost.gov.ph/EQLatest-Monthly/2018/2018_November.html\""
   ]
  },
  {
   "cell_type": "code",
   "execution_count": 4,
   "metadata": {},
   "outputs": [],
   "source": [
    "browser.get(url_nov)"
   ]
  },
  {
   "cell_type": "code",
   "execution_count": 5,
   "metadata": {},
   "outputs": [],
   "source": [
    "index = browser.find_elements_by_class_name(\"auto-style33\")\n",
    "nov_hdr = []\n",
    "ind = -1\n",
    "while ind < 5:\n",
    "    ind += 1\n",
    "    indx = index[ind].text\n",
    "    nov_hdr.append(indx)"
   ]
  },
  {
   "cell_type": "code",
   "execution_count": 6,
   "metadata": {},
   "outputs": [
    {
     "data": {
      "text/plain": [
       "['Date - Time\\n(Philippine Time)',\n",
       " 'Latitude\\n(ºN)',\n",
       " 'Longitude\\n(ºE)',\n",
       " 'Depth\\n(km)',\n",
       " 'Mag',\n",
       " 'Location']"
      ]
     },
     "execution_count": 6,
     "metadata": {},
     "output_type": "execute_result"
    }
   ],
   "source": [
    "nov_hdr"
   ]
  },
  {
   "cell_type": "code",
   "execution_count": 7,
   "metadata": {},
   "outputs": [],
   "source": [
    "# /html/body/table[2]/tbody/tr[465]/td[1]/span/a/text()\n",
    "# .auto-style70\n",
    "nov_date = browser.find_elements_by_class_name(\"auto-style70\")\n",
    "nov_date_col = []\n",
    "x = -1\n",
    "while x < 658:\n",
    "    x += 1\n",
    "    novd = nov_date[x].text\n",
    "    nov_date_col.append(novd)"
   ]
  },
  {
   "cell_type": "code",
   "execution_count": 8,
   "metadata": {},
   "outputs": [],
   "source": [
    "nov_lat = browser.find_elements_by_class_name(\"auto-style51\")\n",
    "nov_latt_col = []\n",
    "z = -1\n",
    "while z < 658:\n",
    "    z += 1\n",
    "    novv = nov_lat[z].text\n",
    "    nov_latt_col.append(novv)"
   ]
  },
  {
   "cell_type": "code",
   "execution_count": 9,
   "metadata": {},
   "outputs": [],
   "source": [
    "nov_lng = []\n",
    "nlong = 2\n",
    "while nlong <= 660:\n",
    "    nlong += 1\n",
    "    nov_lon_col = browser.find_elements_by_xpath(\"/html/body/table[2]/tbody/tr[{nlong}]/td[3]\".format(nlong=nlong))\n",
    "    nov_lng.extend(nov_lon_col)"
   ]
  },
  {
   "cell_type": "code",
   "execution_count": 10,
   "metadata": {},
   "outputs": [],
   "source": [
    "nov_long = []\n",
    "aa = -1\n",
    "while aa < 658:\n",
    "    aa += 1\n",
    "    novl = nov_lng[aa].text\n",
    "    nov_long.append(novl)"
   ]
  },
  {
   "cell_type": "code",
   "execution_count": 11,
   "metadata": {},
   "outputs": [],
   "source": [
    "nov_dpt = []\n",
    "ndept = 2\n",
    "while ndept <= 660:\n",
    "    ndept += 1\n",
    "    nov_dept_col = browser.find_elements_by_xpath(\"/html/body/table[2]/tbody/tr[{ndept}]/td[4]\".format(ndept=ndept))\n",
    "    nov_dpt.extend(nov_dept_col)"
   ]
  },
  {
   "cell_type": "code",
   "execution_count": 12,
   "metadata": {},
   "outputs": [],
   "source": [
    "nov_depth = []\n",
    "az = -1\n",
    "while az < 658:\n",
    "    az += 1\n",
    "    novd = nov_dpt[az].text\n",
    "    nov_depth.append(novd)"
   ]
  },
  {
   "cell_type": "code",
   "execution_count": 13,
   "metadata": {},
   "outputs": [],
   "source": [
    "nov_mg = []\n",
    "novmg = 2\n",
    "while novmg <= 660:\n",
    "    novmg += 1\n",
    "    nov_mag = browser.find_elements_by_xpath(\"/html/body/table[2]/tbody/tr[{novmg}]/td[5]\".format(novmg=novmg))\n",
    "    nov_mg.extend(nov_mag)"
   ]
  },
  {
   "cell_type": "code",
   "execution_count": 15,
   "metadata": {},
   "outputs": [],
   "source": [
    "nov_mag_col = []\n",
    "xx = -1\n",
    "while xx < 658:\n",
    "    xx += 1\n",
    "    novm = nov_mg[xx].text\n",
    "    nov_mag_col.append(novm)"
   ]
  },
  {
   "cell_type": "code",
   "execution_count": 16,
   "metadata": {},
   "outputs": [],
   "source": [
    "nov_loc = browser.find_elements_by_class_name(\"auto-style52\")\n",
    "nov_loc_col = []\n",
    "novl = -1\n",
    "while novl < 658:\n",
    "    novl += 1\n",
    "    nloc = nov_loc[novl].text\n",
    "    nov_loc_col.append(nloc)"
   ]
  },
  {
   "cell_type": "code",
   "execution_count": 17,
   "metadata": {},
   "outputs": [],
   "source": [
    "import pandas as pd"
   ]
  },
  {
   "cell_type": "code",
   "execution_count": 28,
   "metadata": {},
   "outputs": [],
   "source": [
    "data = {\"Date-Time\":nov_date_col,\"Latitude\":nov_latt_col,\"Latitude\":nov_long,\"Depth\":nov_depth,\"Mag\":nov_mag_col,\"Location\":nov_loc_col}"
   ]
  },
  {
   "cell_type": "code",
   "execution_count": 29,
   "metadata": {},
   "outputs": [],
   "source": [
    "philocs_nov = pd.DataFrame(data)"
   ]
  },
  {
   "cell_type": "code",
   "execution_count": 30,
   "metadata": {},
   "outputs": [],
   "source": [
    "philocs_nov.to_csv(\"Philocs_Nov.csv\")"
   ]
  },
  {
   "cell_type": "markdown",
   "metadata": {},
   "source": [
    "### September"
   ]
  },
  {
   "cell_type": "markdown",
   "metadata": {},
   "source": [
    "----"
   ]
  },
  {
   "cell_type": "code",
   "execution_count": 8,
   "metadata": {},
   "outputs": [],
   "source": [
    "sept_url = \"https://earthquake.phivolcs.dost.gov.ph/EQLatest-Monthly/2018/2018_September.html\""
   ]
  },
  {
   "cell_type": "code",
   "execution_count": 11,
   "metadata": {},
   "outputs": [],
   "source": [
    "browser.get(sept_url)"
   ]
  },
  {
   "cell_type": "code",
   "execution_count": 12,
   "metadata": {},
   "outputs": [],
   "source": [
    "# auto-style21\n",
    "sept_dte = browser.find_elements_by_class_name(\"auto-style21\")\n",
    "sept_date_col = []\n",
    "sept = 2\n",
    "while sept < 583:\n",
    "    sept += 1\n",
    "    dte = sept_dte[sept].text\n",
    "    sept_date_col.append(dte)"
   ]
  },
  {
   "cell_type": "code",
   "execution_count": 14,
   "metadata": {},
   "outputs": [],
   "source": [
    "# /html/body/table[3]/tbody/tr[3]/td[2]\n",
    "# /html/body/table[3]/tbody/tr[4]/td[2]\n",
    "slat = []\n",
    "lat = 2\n",
    "while lat <= 584:\n",
    "    lat += 1\n",
    "    sept_lte = browser.find_elements_by_xpath(\"/html/body/table[3]/tbody/tr[{lat}]/td[2]\".format(lat=lat))\n",
    "    slat.extend(sept_lte)"
   ]
  },
  {
   "cell_type": "code",
   "execution_count": 15,
   "metadata": {},
   "outputs": [],
   "source": [
    "sept_lat_col = []\n",
    "slatt = -1\n",
    "while slatt < 580:\n",
    "    slatt += 1\n",
    "    sept_lattde = slat[slatt].text\n",
    "    sept_lat_col.append(sept_lattde)"
   ]
  },
  {
   "cell_type": "code",
   "execution_count": 20,
   "metadata": {},
   "outputs": [],
   "source": [
    "# /html/body/table[3]/tbody/tr[3]/td[3]\n",
    "# /html/body/table[3]/tbody/tr[3]/td[3]\n",
    "# /html/body/table[3]/tbody/tr[4]/td[3]\n",
    "slong = []\n",
    "long = 2\n",
    "while long <= 584:\n",
    "    long += 1\n",
    "    sept_lng = browser.find_elements_by_xpath(\"/html/body/table[3]/tbody/tr[{long}]/td[3]\".format(long=long))\n",
    "    slong.extend(sept_lng)"
   ]
  },
  {
   "cell_type": "code",
   "execution_count": 22,
   "metadata": {},
   "outputs": [],
   "source": [
    "sept_long_col = []\n",
    "slo = -1\n",
    "while slo < 580:\n",
    "    slo += 1\n",
    "    sept_lg = slong[slo].text\n",
    "    sept_long_col.append(sept_lg)"
   ]
  },
  {
   "cell_type": "code",
   "execution_count": 24,
   "metadata": {},
   "outputs": [],
   "source": [
    "# /html/body/table[3]/tbody/tr[3]/td[4]\n",
    "sdept = []\n",
    "depth = 2\n",
    "while depth <= 584:\n",
    "    depth += 1\n",
    "    sept_dpt = browser.find_elements_by_xpath(\"/html/body/table[3]/tbody/tr[{depth}]/td[4]\".format(depth=depth))\n",
    "    sdept.extend(sept_dpt)"
   ]
  },
  {
   "cell_type": "code",
   "execution_count": 25,
   "metadata": {},
   "outputs": [],
   "source": [
    "sept_dept_col = []\n",
    "sdp = -1\n",
    "while sdp < 580:\n",
    "    sdp += 1\n",
    "    sept_dp = sdept[sdp].text\n",
    "    sept_dept_col.append(sept_dp)"
   ]
  },
  {
   "cell_type": "code",
   "execution_count": 27,
   "metadata": {},
   "outputs": [],
   "source": [
    "# /html/body/table[3]/tbody/tr[3]/td[5]\n",
    "smag = []\n",
    "mag = 2\n",
    "while mag <= 584:\n",
    "    mag += 1\n",
    "    sept_mg = browser.find_elements_by_xpath(\"/html/body/table[3]/tbody/tr[{mag}]/td[5]\".format(mag=mag))\n",
    "    smag.extend(sept_mg)"
   ]
  },
  {
   "cell_type": "code",
   "execution_count": 28,
   "metadata": {},
   "outputs": [],
   "source": [
    "sept_mag_col = []\n",
    "smg = -1\n",
    "while smg < 580:\n",
    "    smg += 1\n",
    "    sept_m = smag[smg].text\n",
    "    sept_mag_col.append(sept_m)"
   ]
  },
  {
   "cell_type": "code",
   "execution_count": 30,
   "metadata": {},
   "outputs": [],
   "source": [
    "# /html/body/table[3]/tbody/tr[3]/td[6]\n",
    "sloc = []\n",
    "locat = 2\n",
    "while locat <= 584:\n",
    "    locat += 1\n",
    "    sept_lo = browser.find_elements_by_xpath(\"/html/body/table[3]/tbody/tr[{locat}]/td[6]\".format(locat=locat))\n",
    "    sloc.extend(sept_lo)"
   ]
  },
  {
   "cell_type": "code",
   "execution_count": 31,
   "metadata": {},
   "outputs": [],
   "source": [
    "sept_loc_col = []\n",
    "sl = -1\n",
    "while sl < 580:\n",
    "    sl += 1\n",
    "    sept_l = sloc[sl].text\n",
    "    sept_loc_col.append(sept_l)"
   ]
  },
  {
   "cell_type": "code",
   "execution_count": 20,
   "metadata": {},
   "outputs": [],
   "source": [
    "import pandas as pd"
   ]
  },
  {
   "cell_type": "code",
   "execution_count": 33,
   "metadata": {},
   "outputs": [],
   "source": [
    "sept_data = {'Date-Time':sept_date_col,'Lattitude':sept_lat_col,'Longitude':sept_long_col,'Depth':sept_dept_col,'Mag':sept_mag_col,'Location':sept_loc_col}"
   ]
  },
  {
   "cell_type": "code",
   "execution_count": 35,
   "metadata": {},
   "outputs": [],
   "source": [
    "sept_philocs = pd.DataFrame(sept_data)"
   ]
  },
  {
   "cell_type": "code",
   "execution_count": 37,
   "metadata": {},
   "outputs": [],
   "source": [
    "sept_philocs.to_csv(\"Sept_Philocs.csv\")"
   ]
  },
  {
   "cell_type": "markdown",
   "metadata": {},
   "source": [
    "### May"
   ]
  },
  {
   "cell_type": "markdown",
   "metadata": {},
   "source": [
    "-----"
   ]
  },
  {
   "cell_type": "code",
   "execution_count": 3,
   "metadata": {},
   "outputs": [],
   "source": [
    "may_url = \"https://earthquake.phivolcs.dost.gov.ph/EQLatest-Monthly/2018/2018_May.html\""
   ]
  },
  {
   "cell_type": "code",
   "execution_count": 4,
   "metadata": {},
   "outputs": [],
   "source": [
    "browser.get(may_url)"
   ]
  },
  {
   "cell_type": "code",
   "execution_count": 5,
   "metadata": {},
   "outputs": [],
   "source": [
    "# auto-style21\n",
    "# Date\n",
    "may_date = browser.find_elements_by_class_name(\"auto-style21\")\n",
    "may_date_col = []\n",
    "mayd = 2\n",
    "while mayd < 600:\n",
    "    mayd += 1\n",
    "    maydte = may_date[mayd].text\n",
    "    may_date_col.append(maydte)"
   ]
  },
  {
   "cell_type": "code",
   "execution_count": 6,
   "metadata": {},
   "outputs": [],
   "source": [
    "# Lattitude\n",
    "# /html/body/table[3]/tbody/tr[3]/td[2]\n",
    "# /html/body/table[3]/tbody/tr[4]/td[2]\n",
    "may_lt = []\n",
    "mlatt = 2\n",
    "while mlatt < 604:\n",
    "    mlatt += 1\n",
    "    m_l = browser.find_elements_by_xpath(\"/html/body/table[3]/tbody/tr[{mlatt}]/td[2]\".format(mlatt=mlatt))\n",
    "    may_lt.extend(m_l)"
   ]
  },
  {
   "cell_type": "code",
   "execution_count": 7,
   "metadata": {},
   "outputs": [],
   "source": [
    "# may_lt[0].text\n",
    "may_lat_col = []\n",
    "mltt = -1\n",
    "while mltt < 597:\n",
    "    mltt += 1\n",
    "    m_la = may_lt[mltt].text\n",
    "    may_lat_col.append(m_la)"
   ]
  },
  {
   "cell_type": "code",
   "execution_count": 9,
   "metadata": {},
   "outputs": [],
   "source": [
    "may_lon = []\n",
    "mlong = 2\n",
    "while mlong < 604:\n",
    "    mlong += 1\n",
    "    m_lg = browser.find_elements_by_xpath(\"/html/body/table[3]/tbody/tr[{mlong}]/td[3]\".format(mlong=mlong))\n",
    "    may_lon.extend(m_lg)"
   ]
  },
  {
   "cell_type": "code",
   "execution_count": 10,
   "metadata": {},
   "outputs": [],
   "source": [
    "may_long_col = []\n",
    "mlng = -1\n",
    "while mlng < 597:\n",
    "    mlng += 1\n",
    "    m_long = may_lon[mlng].text\n",
    "    may_long_col.append(m_long)"
   ]
  },
  {
   "cell_type": "code",
   "execution_count": 12,
   "metadata": {},
   "outputs": [],
   "source": [
    "# /html/body/table[3]/tbody/tr[3]/td[4]\n",
    "may_dp = []\n",
    "mdpth = 2\n",
    "while mdpth < 604:\n",
    "    mdpth += 1\n",
    "    m_dt = browser.find_elements_by_xpath(\"/html/body/table[3]/tbody/tr[{mdpth}]/td[4]\".format(mdpth=mdpth))\n",
    "    may_dp.extend(m_dt)"
   ]
  },
  {
   "cell_type": "code",
   "execution_count": 13,
   "metadata": {},
   "outputs": [],
   "source": [
    "may_depth_col = []\n",
    "mdp = -1\n",
    "while mdp < 597:\n",
    "    mdp += 1\n",
    "    m_depth = may_dp[mdp].text\n",
    "    may_depth_col.append(m_depth)"
   ]
  },
  {
   "cell_type": "code",
   "execution_count": 14,
   "metadata": {},
   "outputs": [],
   "source": [
    "# /html/body/table[3]/tbody/tr[3]/td[5]\n",
    "may_mg = []\n",
    "mmg = 2\n",
    "while mmg < 604:\n",
    "    mmg += 1\n",
    "    m_mg = browser.find_elements_by_xpath(\"/html/body/table[3]/tbody/tr[{mmg}]/td[5]\".format(mmg=mmg))\n",
    "    may_mg.extend(m_mg)"
   ]
  },
  {
   "cell_type": "code",
   "execution_count": 15,
   "metadata": {},
   "outputs": [],
   "source": [
    "may_mag_col = []\n",
    "mmag = -1\n",
    "while mmag < 597:\n",
    "    mmag += 1\n",
    "    m_mag = may_mg[mmag].text\n",
    "    may_mag_col.append(m_mag)"
   ]
  },
  {
   "cell_type": "code",
   "execution_count": 17,
   "metadata": {},
   "outputs": [],
   "source": [
    "# /html/body/table[3]/tbody/tr[3]/td[6]\n",
    "may_lc = []\n",
    "mloc = 2\n",
    "while mloc < 604:\n",
    "    mloc += 1\n",
    "    m_loc = browser.find_elements_by_xpath(\"/html/body/table[3]/tbody/tr[{mloc}]/td[6]\".format(mloc=mloc))\n",
    "    may_lc.extend(m_loc)"
   ]
  },
  {
   "cell_type": "code",
   "execution_count": 18,
   "metadata": {},
   "outputs": [],
   "source": [
    "may_loc_col = []\n",
    "mlocat = -1\n",
    "while mlocat < 597:\n",
    "    mlocat += 1\n",
    "    m_lct = may_lc[mlocat].text\n",
    "    may_loc_col.append(m_lct)"
   ]
  },
  {
   "cell_type": "code",
   "execution_count": 19,
   "metadata": {},
   "outputs": [],
   "source": [
    "may_data = {'Date-Time':may_date_col,'Lattitude':may_lat_col,'Longitude':may_long_col,'Depth':may_depth_col,'Mag':may_mag_col,'Location':may_loc_col}"
   ]
  },
  {
   "cell_type": "code",
   "execution_count": 21,
   "metadata": {},
   "outputs": [],
   "source": [
    "may_philocs = pd.DataFrame(may_data)"
   ]
  },
  {
   "cell_type": "code",
   "execution_count": 23,
   "metadata": {},
   "outputs": [],
   "source": [
    "may_philocs.to_csv(\"May_Philocs.csv\")"
   ]
  },
  {
   "cell_type": "markdown",
   "metadata": {},
   "source": [
    "#### April"
   ]
  },
  {
   "cell_type": "markdown",
   "metadata": {},
   "source": [
    "-----"
   ]
  },
  {
   "cell_type": "code",
   "execution_count": 24,
   "metadata": {},
   "outputs": [],
   "source": [
    "april_url = \"https://earthquake.phivolcs.dost.gov.ph/EQLatest-Monthly/2018/2018_April.html\""
   ]
  },
  {
   "cell_type": "code",
   "execution_count": 26,
   "metadata": {},
   "outputs": [],
   "source": [
    "browser.get(april_url)"
   ]
  },
  {
   "cell_type": "code",
   "execution_count": 30,
   "metadata": {},
   "outputs": [],
   "source": [
    "april_dte = browser.find_elements_by_class_name(\"auto-style21\")\n",
    "april_date_col = []\n",
    "aprild = 2\n",
    "while aprild < 468:\n",
    "    aprild += 1\n",
    "    a_date = april_dte[aprild].text\n",
    "    april_date_col.append(a_date)"
   ]
  },
  {
   "cell_type": "code",
   "execution_count": 33,
   "metadata": {},
   "outputs": [],
   "source": [
    "april_lte = []\n",
    "aprlat = 2\n",
    "while aprlat < 472:\n",
    "    aprlat += 1\n",
    "    apr_lt = browser.find_elements_by_xpath(\"/html/body/table[3]/tbody/tr[{aprlat}]/td[2]\".format(aprlat=aprlat))\n",
    "    april_lte.extend(apr_lt)"
   ]
  },
  {
   "cell_type": "code",
   "execution_count": 39,
   "metadata": {},
   "outputs": [],
   "source": [
    "april_lat_col = []\n",
    "alat = -1\n",
    "while alat < 465:\n",
    "    alat += 1\n",
    "    alt = april_lte[alat].text\n",
    "    april_lat_col.append(alt)"
   ]
  },
  {
   "cell_type": "code",
   "execution_count": 45,
   "metadata": {},
   "outputs": [],
   "source": [
    "april_lng = []\n",
    "aprlg = 2\n",
    "while aprlg < 472:\n",
    "    aprlg += 1\n",
    "    apr_long = browser.find_elements_by_xpath(\"/html/body/table[3]/tbody/tr[{aprlg}]/td[3]\".format(aprlg=aprlg))\n",
    "    april_lng.extend(apr_long)"
   ]
  },
  {
   "cell_type": "code",
   "execution_count": 46,
   "metadata": {},
   "outputs": [],
   "source": [
    "april_long_col = []\n",
    "aplg = -1\n",
    "while aplg < 465:\n",
    "    aplg += 1\n",
    "    along = april_lng[aplg].text\n",
    "    april_long_col.append(along)"
   ]
  },
  {
   "cell_type": "code",
   "execution_count": 48,
   "metadata": {},
   "outputs": [],
   "source": [
    "# /html/body/table[3]/tbody/tr[3]/td[4]\n",
    "april_dpth = []\n",
    "aprdpt = 2\n",
    "while aprdpt < 472:\n",
    "    aprdpt += 1\n",
    "    apr_dpth = browser.find_elements_by_xpath(\"/html/body/table[3]/tbody/tr[{aprdpt}]/td[4]\".format(aprdpt=aprdpt))\n",
    "    april_dpth.extend(apr_dpth)"
   ]
  },
  {
   "cell_type": "code",
   "execution_count": 49,
   "metadata": {},
   "outputs": [],
   "source": [
    "april_depth_col = []\n",
    "apdp = -1\n",
    "while apdp < 465:\n",
    "    apdp += 1\n",
    "    adepth = april_dpth[apdp].text\n",
    "    april_depth_col.append(adepth)"
   ]
  },
  {
   "cell_type": "code",
   "execution_count": 51,
   "metadata": {},
   "outputs": [],
   "source": [
    "april_mg = []\n",
    "aprmg = 2\n",
    "while aprmg < 472:\n",
    "    aprmg += 1\n",
    "    apr_mg = browser.find_elements_by_xpath(\"/html/body/table[3]/tbody/tr[{aprmg}]/td[5]\".format(aprmg=aprmg))\n",
    "    april_mg.extend(apr_mg)"
   ]
  },
  {
   "cell_type": "code",
   "execution_count": 52,
   "metadata": {},
   "outputs": [],
   "source": [
    "april_mag_col = []\n",
    "amg = -1\n",
    "while amg < 465:\n",
    "    amg += 1\n",
    "    amag = april_mg[amg].text\n",
    "    april_mag_col.append(amag)    "
   ]
  },
  {
   "cell_type": "code",
   "execution_count": 53,
   "metadata": {},
   "outputs": [],
   "source": [
    "april_lc = []\n",
    "aprloc = 2\n",
    "while aprloc < 472:\n",
    "    aprloc += 1\n",
    "    apr_loct = browser.find_elements_by_xpath(\"/html/body/table[3]/tbody/tr[{aprloc}]/td[6]\".format(aprloc=aprloc))\n",
    "    april_lc.extend(apr_loct)"
   ]
  },
  {
   "cell_type": "code",
   "execution_count": 54,
   "metadata": {},
   "outputs": [],
   "source": [
    "april_loc_col = []\n",
    "apl = -1\n",
    "while apl < 465:\n",
    "    apl += 1\n",
    "    aloc = april_lc[apl].text\n",
    "    april_loc_col.append(aloc)"
   ]
  },
  {
   "cell_type": "code",
   "execution_count": 55,
   "metadata": {},
   "outputs": [],
   "source": [
    "april_data = {'Date-Time':april_date_col,'Lattitude':april_lat_col,'Longitude':april_long_col,'Depth':april_depth_col,'Mag':april_mag_col,'Location':april_loc_col}"
   ]
  },
  {
   "cell_type": "code",
   "execution_count": 56,
   "metadata": {},
   "outputs": [],
   "source": [
    "april_philocs = pd.DataFrame(april_data)"
   ]
  },
  {
   "cell_type": "code",
   "execution_count": 59,
   "metadata": {},
   "outputs": [],
   "source": [
    "april_philocs.to_csv(\"April_Philocs.csv\")"
   ]
  },
  {
   "cell_type": "code",
   "execution_count": null,
   "metadata": {},
   "outputs": [],
   "source": []
  }
 ],
 "metadata": {
  "kernelspec": {
   "display_name": "Python 3",
   "language": "python",
   "name": "python3"
  },
  "language_info": {
   "codemirror_mode": {
    "name": "ipython",
    "version": 3
   },
   "file_extension": ".py",
   "mimetype": "text/x-python",
   "name": "python",
   "nbconvert_exporter": "python",
   "pygments_lexer": "ipython3",
   "version": "3.6.5"
  }
 },
 "nbformat": 4,
 "nbformat_minor": 2
}
